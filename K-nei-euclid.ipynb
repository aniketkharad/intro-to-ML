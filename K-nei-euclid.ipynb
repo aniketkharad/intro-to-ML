{
 "cells": [
  {
   "cell_type": "code",
   "execution_count": 1,
   "metadata": {},
   "outputs": [],
   "source": [
    "import numpy as np\n",
    "from math import sqrt\n",
    "# import matplotlib.pyplot as plt\n",
    "import warnings\n",
    "# from matplotlib import style\n",
    "from collections import Counter\n",
    "# style.use('fivethirtyeight')\n",
    "\n",
    "import pandas as pd \n",
    "import random"
   ]
  },
  {
   "cell_type": "code",
   "execution_count": 2,
   "metadata": {},
   "outputs": [],
   "source": [
    "# dataset = { 'k':[ [1,2],[2,3],[3,1]], 'r':[ [6,5],[7,7],[8,6]]}\n",
    "# new_features = [5,7]\n",
    "\n",
    "# for i in dataset:\n",
    "#     for ii in dataset[i]:\n",
    "#         plt.scatter(ii[0],ii[1], color=i)\n",
    "        \n",
    "# # [[plt.scatter(ii[0],ii[1], s=100, color=i) for ii in dataset[i]] for i in dataset]\n",
    "# plt.scatter(new_features[0], new_features[1], s=20)\n",
    "# plt.show()"
   ]
  },
  {
   "cell_type": "code",
   "execution_count": 3,
   "metadata": {},
   "outputs": [],
   "source": [
    "def k_near_neighbors(data, predict, k=3):\n",
    "    if(len(data) >= k):\n",
    "        warnings.warn('K is less total voting groups! ! ! ')\n",
    "    distances = []\n",
    "    for group in data:\n",
    "        for features in data[group]:\n",
    "#             euclidean_distance = np.sqrt(np.sum( (np.array(features) - np.array(predict))**2))\n",
    "            euclidean_distance = np.linalg.norm(np.array(features) - np.array(predict))\n",
    "            distances.append([euclidean_distance, group])\n",
    "    \n",
    "    votes = [i[1] for i in sorted(distances)[:k]]\n",
    "#     print(Counter(votes).most_common(1))\n",
    "    confidence =  Counter(votes).most_common(1)[0][1] / k\n",
    "    vote_result = Counter(votes).most_common(1)[0][0]\n",
    "    return vote_result, confidence"
   ]
  },
  {
   "cell_type": "code",
   "execution_count": 4,
   "metadata": {},
   "outputs": [],
   "source": [
    "# results = k_near_neighbors(dataset, new_features, k=3)\n",
    "# [[plt.scatter(ii[0],ii[1], s=100, color=i) for ii in dataset[i]] for i in dataset]\n",
    "# plt.scatter(new_features[0], new_features[1], color=results)\n",
    "# plt.show()"
   ]
  },
  {
   "cell_type": "code",
   "execution_count": 5,
   "metadata": {},
   "outputs": [],
   "source": [
    "df = pd.read_csv('datasets/breast-cancer/breast-cancer-wisconsin.data')\n",
    "df.replace('?', -99999, inplace=True)\n",
    "df.drop( ['id'], 1, inplace=True)\n",
    "\n",
    "full_data = df.astype(float).values.tolist()\n",
    "random.shuffle(full_data)"
   ]
  },
  {
   "cell_type": "code",
   "execution_count": 6,
   "metadata": {},
   "outputs": [],
   "source": [
    "test_size = 0.4\n",
    "train_set = {2:[], 4:[]}\n",
    "test_set = {2:[], 4:[]}\n",
    "train_data = full_data[:-int(test_size*len(full_data))]\n",
    "test_data = full_data[-int(test_size*len(full_data)):]\n",
    "\n",
    "for i in train_data:\n",
    "    train_set[i[-1]].append(i[:-1])\n",
    "    \n",
    "for i in test_data:\n",
    "    test_set[i[-1]].append(i[:-1])"
   ]
  },
  {
   "cell_type": "code",
   "execution_count": 7,
   "metadata": {},
   "outputs": [
    {
     "name": "stdout",
     "output_type": "stream",
     "text": [
      "1.0\n",
      "1.0\n",
      "1.0\n",
      "0.8\n",
      "1.0\n",
      "0.6\n",
      "0.8\n",
      "0.6\n",
      "0.6\n",
      "1.0\n",
      "Accuracy =  0.96415770609319\n"
     ]
    }
   ],
   "source": [
    "correct = 0\n",
    "total = 0\n",
    "\n",
    "for group in test_set:\n",
    "    for data in test_set[group]:\n",
    "        vote, confidence = k_near_neighbors(train_set, data, k=5)\n",
    "        if(group==vote):\n",
    "            correct += 1\n",
    "        else:\n",
    "            print(confidence)\n",
    "        total += 1\n",
    "        \n",
    "print('Accuracy = ', correct/total)"
   ]
  },
  {
   "cell_type": "code",
   "execution_count": 8,
   "metadata": {},
   "outputs": [
    {
     "name": "stdout",
     "output_type": "stream",
     "text": [
      "0.96\n",
      "0.9\n",
      "0.96\n",
      "0.92\n",
      "0.9\n",
      "0.7\n",
      "0.5\n",
      "0.94\n",
      "0.8\n",
      "0.84\n",
      "0.64\n",
      "0.6\n",
      "0.64\n",
      "0.88\n",
      "0.92\n",
      "0.64\n",
      "1.0\n",
      "Accuracy =  0.9390681003584229\n"
     ]
    }
   ],
   "source": [
    "correct = 0\n",
    "total = 0\n",
    "\n",
    "for group in test_set:\n",
    "    for data in test_set[group]:\n",
    "        vote, confidence = k_near_neighbors(train_set, data, k=50)\n",
    "        if(group==vote):\n",
    "            correct += 1\n",
    "        else:\n",
    "            print(confidence)\n",
    "        total += 1\n",
    "        \n",
    "print('Accuracy = ', correct/total)"
   ]
  },
  {
   "cell_type": "code",
   "execution_count": 9,
   "metadata": {},
   "outputs": [
    {
     "name": "stdout",
     "output_type": "stream",
     "text": [
      "0.585\n",
      "0.63\n",
      "0.5\n",
      "0.865\n",
      "0.7\n",
      "0.795\n",
      "0.78\n",
      "0.975\n",
      "0.58\n",
      "0.585\n",
      "0.705\n",
      "0.9\n",
      "0.745\n",
      "0.925\n",
      "0.765\n",
      "0.63\n",
      "0.505\n",
      "0.7\n",
      "0.855\n",
      "0.515\n",
      "0.54\n",
      "0.535\n",
      "0.82\n",
      "0.57\n",
      "0.91\n",
      "0.67\n",
      "0.74\n",
      "0.955\n",
      "0.795\n",
      "0.59\n",
      "0.99\n",
      "Accuracy =  0.8888888888888888\n"
     ]
    }
   ],
   "source": [
    "correct = 0\n",
    "total = 0\n",
    "\n",
    "for group in test_set:\n",
    "    for data in test_set[group]:\n",
    "        vote, confidence = k_near_neighbors(train_set, data, k=200)\n",
    "        if(group==vote):\n",
    "            correct += 1\n",
    "        else:\n",
    "            print(confidence)\n",
    "        total += 1\n",
    "        \n",
    "print('Accuracy = ', correct/total)"
   ]
  },
  {
   "cell_type": "code",
   "execution_count": 16,
   "metadata": {},
   "outputs": [
    {
     "name": "stdout",
     "output_type": "stream",
     "text": [
      "0.9707913669064753\n",
      "Wall time: 1min 21s\n"
     ]
    }
   ],
   "source": [
    "%%time\n",
    "accuracies = []\n",
    "\n",
    "for i in range(100):\n",
    "    \n",
    "    random.shuffle(full_data)\n",
    "    \n",
    "    test_size = 0.2\n",
    "    train_set = {2:[], 4:[]}\n",
    "    test_set = {2:[], 4:[]}\n",
    "    train_data = full_data[:-int(test_size*len(full_data))]\n",
    "    test_data = full_data[-int(test_size*len(full_data)):]\n",
    "\n",
    "    for i in train_data:\n",
    "        train_set[i[-1]].append(i[:-1])\n",
    "\n",
    "    for i in test_data:\n",
    "        test_set[i[-1]].append(i[:-1])\n",
    "\n",
    "    correct = 0\n",
    "    total = 0\n",
    "\n",
    "    for group in test_set:\n",
    "        for data in test_set[group]:\n",
    "            vote, confidence = k_near_neighbors(train_set, data, k=5)\n",
    "            if(group==vote):\n",
    "                correct += 1\n",
    "#             else: print(confidence)\n",
    "            total += 1\n",
    "\n",
    "#     print('Accuracy = ', correct/total)\n",
    "    accuracies.append(correct/total)\n",
    "\n",
    "print(sum(accuracies)/len(accuracies))"
   ]
  },
  {
   "cell_type": "code",
   "execution_count": null,
   "metadata": {},
   "outputs": [],
   "source": []
  }
 ],
 "metadata": {
  "kernelspec": {
   "display_name": "Python 3",
   "language": "python",
   "name": "python3"
  },
  "language_info": {
   "codemirror_mode": {
    "name": "ipython",
    "version": 3
   },
   "file_extension": ".py",
   "mimetype": "text/x-python",
   "name": "python",
   "nbconvert_exporter": "python",
   "pygments_lexer": "ipython3",
   "version": "3.7.4"
  }
 },
 "nbformat": 4,
 "nbformat_minor": 4
}
