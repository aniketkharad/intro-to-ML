{
 "cells": [
  {
   "cell_type": "code",
   "execution_count": 1,
   "metadata": {},
   "outputs": [
    {
     "data": {
      "text/html": [
       "<div>\n",
       "<style scoped>\n",
       "    .dataframe tbody tr th:only-of-type {\n",
       "        vertical-align: middle;\n",
       "    }\n",
       "\n",
       "    .dataframe tbody tr th {\n",
       "        vertical-align: top;\n",
       "    }\n",
       "\n",
       "    .dataframe thead th {\n",
       "        text-align: right;\n",
       "    }\n",
       "</style>\n",
       "<table border=\"1\" class=\"dataframe\">\n",
       "  <thead>\n",
       "    <tr style=\"text-align: right;\">\n",
       "      <th></th>\n",
       "      <th>carat</th>\n",
       "      <th>cut</th>\n",
       "      <th>color</th>\n",
       "      <th>clarity</th>\n",
       "      <th>depth</th>\n",
       "      <th>table</th>\n",
       "      <th>price</th>\n",
       "      <th>x</th>\n",
       "      <th>y</th>\n",
       "      <th>z</th>\n",
       "    </tr>\n",
       "  </thead>\n",
       "  <tbody>\n",
       "    <tr>\n",
       "      <th>1</th>\n",
       "      <td>0.23</td>\n",
       "      <td>Ideal</td>\n",
       "      <td>E</td>\n",
       "      <td>SI2</td>\n",
       "      <td>61.5</td>\n",
       "      <td>55.0</td>\n",
       "      <td>326</td>\n",
       "      <td>3.95</td>\n",
       "      <td>3.98</td>\n",
       "      <td>2.43</td>\n",
       "    </tr>\n",
       "    <tr>\n",
       "      <th>2</th>\n",
       "      <td>0.21</td>\n",
       "      <td>Premium</td>\n",
       "      <td>E</td>\n",
       "      <td>SI1</td>\n",
       "      <td>59.8</td>\n",
       "      <td>61.0</td>\n",
       "      <td>326</td>\n",
       "      <td>3.89</td>\n",
       "      <td>3.84</td>\n",
       "      <td>2.31</td>\n",
       "    </tr>\n",
       "    <tr>\n",
       "      <th>3</th>\n",
       "      <td>0.23</td>\n",
       "      <td>Good</td>\n",
       "      <td>E</td>\n",
       "      <td>VS1</td>\n",
       "      <td>56.9</td>\n",
       "      <td>65.0</td>\n",
       "      <td>327</td>\n",
       "      <td>4.05</td>\n",
       "      <td>4.07</td>\n",
       "      <td>2.31</td>\n",
       "    </tr>\n",
       "    <tr>\n",
       "      <th>4</th>\n",
       "      <td>0.29</td>\n",
       "      <td>Premium</td>\n",
       "      <td>I</td>\n",
       "      <td>VS2</td>\n",
       "      <td>62.4</td>\n",
       "      <td>58.0</td>\n",
       "      <td>334</td>\n",
       "      <td>4.20</td>\n",
       "      <td>4.23</td>\n",
       "      <td>2.63</td>\n",
       "    </tr>\n",
       "    <tr>\n",
       "      <th>5</th>\n",
       "      <td>0.31</td>\n",
       "      <td>Good</td>\n",
       "      <td>J</td>\n",
       "      <td>SI2</td>\n",
       "      <td>63.3</td>\n",
       "      <td>58.0</td>\n",
       "      <td>335</td>\n",
       "      <td>4.34</td>\n",
       "      <td>4.35</td>\n",
       "      <td>2.75</td>\n",
       "    </tr>\n",
       "  </tbody>\n",
       "</table>\n",
       "</div>"
      ],
      "text/plain": [
       "   carat      cut color clarity  depth  table  price     x     y     z\n",
       "1   0.23    Ideal     E     SI2   61.5   55.0    326  3.95  3.98  2.43\n",
       "2   0.21  Premium     E     SI1   59.8   61.0    326  3.89  3.84  2.31\n",
       "3   0.23     Good     E     VS1   56.9   65.0    327  4.05  4.07  2.31\n",
       "4   0.29  Premium     I     VS2   62.4   58.0    334  4.20  4.23  2.63\n",
       "5   0.31     Good     J     SI2   63.3   58.0    335  4.34  4.35  2.75"
      ]
     },
     "execution_count": 1,
     "metadata": {},
     "output_type": "execute_result"
    }
   ],
   "source": [
    "import pandas as pd\n",
    "df = pd.read_csv('datasets/diamonds.csv', index_col=0)\n",
    "df.head()"
   ]
  },
  {
   "cell_type": "code",
   "execution_count": 2,
   "metadata": {},
   "outputs": [
    {
     "data": {
      "text/plain": [
       "array(['Ideal', 'Premium', 'Good', 'Very Good', 'Fair'], dtype=object)"
      ]
     },
     "execution_count": 2,
     "metadata": {},
     "output_type": "execute_result"
    }
   ],
   "source": [
    "df['cut'].unique()"
   ]
  },
  {
   "cell_type": "code",
   "execution_count": 3,
   "metadata": {},
   "outputs": [
    {
     "data": {
      "text/html": [
       "<div>\n",
       "<style scoped>\n",
       "    .dataframe tbody tr th:only-of-type {\n",
       "        vertical-align: middle;\n",
       "    }\n",
       "\n",
       "    .dataframe tbody tr th {\n",
       "        vertical-align: top;\n",
       "    }\n",
       "\n",
       "    .dataframe thead th {\n",
       "        text-align: right;\n",
       "    }\n",
       "</style>\n",
       "<table border=\"1\" class=\"dataframe\">\n",
       "  <thead>\n",
       "    <tr style=\"text-align: right;\">\n",
       "      <th></th>\n",
       "      <th>carat</th>\n",
       "      <th>cut</th>\n",
       "      <th>color</th>\n",
       "      <th>clarity</th>\n",
       "      <th>depth</th>\n",
       "      <th>table</th>\n",
       "      <th>price</th>\n",
       "      <th>x</th>\n",
       "      <th>y</th>\n",
       "      <th>z</th>\n",
       "    </tr>\n",
       "  </thead>\n",
       "  <tbody>\n",
       "    <tr>\n",
       "      <th>1</th>\n",
       "      <td>0.23</td>\n",
       "      <td>Ideal</td>\n",
       "      <td>E</td>\n",
       "      <td>SI2</td>\n",
       "      <td>61.5</td>\n",
       "      <td>55.0</td>\n",
       "      <td>326</td>\n",
       "      <td>3.95</td>\n",
       "      <td>3.98</td>\n",
       "      <td>2.43</td>\n",
       "    </tr>\n",
       "    <tr>\n",
       "      <th>2</th>\n",
       "      <td>0.21</td>\n",
       "      <td>Premium</td>\n",
       "      <td>E</td>\n",
       "      <td>SI1</td>\n",
       "      <td>59.8</td>\n",
       "      <td>61.0</td>\n",
       "      <td>326</td>\n",
       "      <td>3.89</td>\n",
       "      <td>3.84</td>\n",
       "      <td>2.31</td>\n",
       "    </tr>\n",
       "    <tr>\n",
       "      <th>3</th>\n",
       "      <td>0.23</td>\n",
       "      <td>Good</td>\n",
       "      <td>E</td>\n",
       "      <td>VS1</td>\n",
       "      <td>56.9</td>\n",
       "      <td>65.0</td>\n",
       "      <td>327</td>\n",
       "      <td>4.05</td>\n",
       "      <td>4.07</td>\n",
       "      <td>2.31</td>\n",
       "    </tr>\n",
       "    <tr>\n",
       "      <th>4</th>\n",
       "      <td>0.29</td>\n",
       "      <td>Premium</td>\n",
       "      <td>I</td>\n",
       "      <td>VS2</td>\n",
       "      <td>62.4</td>\n",
       "      <td>58.0</td>\n",
       "      <td>334</td>\n",
       "      <td>4.20</td>\n",
       "      <td>4.23</td>\n",
       "      <td>2.63</td>\n",
       "    </tr>\n",
       "    <tr>\n",
       "      <th>5</th>\n",
       "      <td>0.31</td>\n",
       "      <td>Good</td>\n",
       "      <td>J</td>\n",
       "      <td>SI2</td>\n",
       "      <td>63.3</td>\n",
       "      <td>58.0</td>\n",
       "      <td>335</td>\n",
       "      <td>4.34</td>\n",
       "      <td>4.35</td>\n",
       "      <td>2.75</td>\n",
       "    </tr>\n",
       "  </tbody>\n",
       "</table>\n",
       "</div>"
      ],
      "text/plain": [
       "   carat      cut color clarity  depth  table  price     x     y     z\n",
       "1   0.23    Ideal     E     SI2   61.5   55.0    326  3.95  3.98  2.43\n",
       "2   0.21  Premium     E     SI1   59.8   61.0    326  3.89  3.84  2.31\n",
       "3   0.23     Good     E     VS1   56.9   65.0    327  4.05  4.07  2.31\n",
       "4   0.29  Premium     I     VS2   62.4   58.0    334  4.20  4.23  2.63\n",
       "5   0.31     Good     J     SI2   63.3   58.0    335  4.34  4.35  2.75"
      ]
     },
     "execution_count": 3,
     "metadata": {},
     "output_type": "execute_result"
    }
   ],
   "source": [
    "df.head()"
   ]
  },
  {
   "cell_type": "code",
   "execution_count": 4,
   "metadata": {},
   "outputs": [],
   "source": [
    "# df['cut'].astype('category').cat.codes"
   ]
  },
  {
   "cell_type": "code",
   "execution_count": 5,
   "metadata": {},
   "outputs": [
    {
     "data": {
      "text/html": [
       "<div>\n",
       "<style scoped>\n",
       "    .dataframe tbody tr th:only-of-type {\n",
       "        vertical-align: middle;\n",
       "    }\n",
       "\n",
       "    .dataframe tbody tr th {\n",
       "        vertical-align: top;\n",
       "    }\n",
       "\n",
       "    .dataframe thead th {\n",
       "        text-align: right;\n",
       "    }\n",
       "</style>\n",
       "<table border=\"1\" class=\"dataframe\">\n",
       "  <thead>\n",
       "    <tr style=\"text-align: right;\">\n",
       "      <th></th>\n",
       "      <th>carat</th>\n",
       "      <th>cut</th>\n",
       "      <th>color</th>\n",
       "      <th>clarity</th>\n",
       "      <th>depth</th>\n",
       "      <th>table</th>\n",
       "      <th>price</th>\n",
       "      <th>x</th>\n",
       "      <th>y</th>\n",
       "      <th>z</th>\n",
       "    </tr>\n",
       "  </thead>\n",
       "  <tbody>\n",
       "    <tr>\n",
       "      <th>1</th>\n",
       "      <td>0.23</td>\n",
       "      <td>5</td>\n",
       "      <td>6</td>\n",
       "      <td>4</td>\n",
       "      <td>61.5</td>\n",
       "      <td>55.0</td>\n",
       "      <td>326</td>\n",
       "      <td>3.95</td>\n",
       "      <td>3.98</td>\n",
       "      <td>2.43</td>\n",
       "    </tr>\n",
       "    <tr>\n",
       "      <th>2</th>\n",
       "      <td>0.21</td>\n",
       "      <td>4</td>\n",
       "      <td>6</td>\n",
       "      <td>5</td>\n",
       "      <td>59.8</td>\n",
       "      <td>61.0</td>\n",
       "      <td>326</td>\n",
       "      <td>3.89</td>\n",
       "      <td>3.84</td>\n",
       "      <td>2.31</td>\n",
       "    </tr>\n",
       "    <tr>\n",
       "      <th>3</th>\n",
       "      <td>0.23</td>\n",
       "      <td>2</td>\n",
       "      <td>6</td>\n",
       "      <td>7</td>\n",
       "      <td>56.9</td>\n",
       "      <td>65.0</td>\n",
       "      <td>327</td>\n",
       "      <td>4.05</td>\n",
       "      <td>4.07</td>\n",
       "      <td>2.31</td>\n",
       "    </tr>\n",
       "    <tr>\n",
       "      <th>4</th>\n",
       "      <td>0.29</td>\n",
       "      <td>4</td>\n",
       "      <td>2</td>\n",
       "      <td>6</td>\n",
       "      <td>62.4</td>\n",
       "      <td>58.0</td>\n",
       "      <td>334</td>\n",
       "      <td>4.20</td>\n",
       "      <td>4.23</td>\n",
       "      <td>2.63</td>\n",
       "    </tr>\n",
       "    <tr>\n",
       "      <th>5</th>\n",
       "      <td>0.31</td>\n",
       "      <td>2</td>\n",
       "      <td>1</td>\n",
       "      <td>4</td>\n",
       "      <td>63.3</td>\n",
       "      <td>58.0</td>\n",
       "      <td>335</td>\n",
       "      <td>4.34</td>\n",
       "      <td>4.35</td>\n",
       "      <td>2.75</td>\n",
       "    </tr>\n",
       "  </tbody>\n",
       "</table>\n",
       "</div>"
      ],
      "text/plain": [
       "   carat  cut  color  clarity  depth  table  price     x     y     z\n",
       "1   0.23    5      6        4   61.5   55.0    326  3.95  3.98  2.43\n",
       "2   0.21    4      6        5   59.8   61.0    326  3.89  3.84  2.31\n",
       "3   0.23    2      6        7   56.9   65.0    327  4.05  4.07  2.31\n",
       "4   0.29    4      2        6   62.4   58.0    334  4.20  4.23  2.63\n",
       "5   0.31    2      1        4   63.3   58.0    335  4.34  4.35  2.75"
      ]
     },
     "execution_count": 5,
     "metadata": {},
     "output_type": "execute_result"
    }
   ],
   "source": [
    "cut_class_dict = {\"Fair\": 1, \"Good\": 2, \"Very Good\": 3, \"Premium\": 4, \"Ideal\": 5}\n",
    "clarity_dict = {\"I3\": 1, \"I2\": 2, \"I1\": 3, \"SI2\": 4, \"SI1\": 5, \"VS2\": 6, \"VS1\": 7, \"VVS2\": 8, \"VVS1\": 9, \"IF\": 10, \"FL\": 11}\n",
    "color_dict = {\"J\": 1,\"I\": 2,\"H\": 3,\"G\": 4,\"F\": 5,\"E\": 6,\"D\": 7}\n",
    "\n",
    "df['cut'] = df['cut'].map(cut_class_dict)\n",
    "df['clarity'] = df['clarity'].map(clarity_dict)\n",
    "df['color'] = df['color'].map(color_dict)\n",
    "\n",
    "df.head()"
   ]
  },
  {
   "cell_type": "code",
   "execution_count": 6,
   "metadata": {},
   "outputs": [],
   "source": [
    "import sklearn\n",
    "from sklearn import svm, preprocessing\n",
    "\n",
    "df = sklearn.utils.shuffle(df)\n",
    "\n",
    "X = df.drop('price', axis=1).values\n",
    "X = preprocessing.scale(X)\n",
    "y = df['price'].values\n",
    "\n",
    "test_size = 200\n",
    "\n",
    "X_train = X[:-test_size]\n",
    "y_train = y[:-test_size]\n",
    "\n",
    "X_test = X[-test_size:]\n",
    "y_test = y[-test_size:]\n"
   ]
  },
  {
   "cell_type": "code",
   "execution_count": 7,
   "metadata": {},
   "outputs": [
    {
     "data": {
      "text/plain": [
       "array([[-1.05049061,  0.08588908,  0.34930404, ..., -1.31148362,\n",
       "        -1.26477147, -1.27354907],\n",
       "       [ 0.531765  ,  0.08588908, -0.8264134 , ...,  0.85477378,\n",
       "         0.76653146,  0.59695453],\n",
       "       [-0.81842646, -0.80969515,  1.52502147, ..., -0.91032484,\n",
       "        -0.87952436, -0.74924124],\n",
       "       ...,\n",
       "       [-0.98720039,  0.98147332, -0.23855468, ..., -1.15102011,\n",
       "        -1.10717038, -1.0893328 ],\n",
       "       [ 0.55286174, -0.80969515, -1.41427211, ...,  0.82802986,\n",
       "         0.92413255,  0.56861357],\n",
       "       [ 1.48111837,  0.98147332, -0.23855468, ...,  1.39856679,\n",
       "         1.33564651,  1.44718345]])"
      ]
     },
     "execution_count": 7,
     "metadata": {},
     "output_type": "execute_result"
    }
   ],
   "source": [
    "X"
   ]
  },
  {
   "cell_type": "code",
   "execution_count": 8,
   "metadata": {},
   "outputs": [
    {
     "name": "stdout",
     "output_type": "stream",
     "text": [
      "Wall time: 1min 26s\n"
     ]
    },
    {
     "data": {
      "text/plain": [
       "SVR(C=1.0, cache_size=200, coef0=0.0, degree=3, epsilon=0.1, gamma='scale',\n",
       "    kernel='linear', max_iter=-1, shrinking=True, tol=0.001, verbose=False)"
      ]
     },
     "execution_count": 8,
     "metadata": {},
     "output_type": "execute_result"
    }
   ],
   "source": [
    "%%time\n",
    "\n",
    "clf_linear = svm.SVR(kernel='linear')\n",
    "clf_linear.fit(X_train, y_train)"
   ]
  },
  {
   "cell_type": "code",
   "execution_count": 9,
   "metadata": {},
   "outputs": [
    {
     "data": {
      "text/plain": [
       "0.8786444874568768"
      ]
     },
     "execution_count": 9,
     "metadata": {},
     "output_type": "execute_result"
    }
   ],
   "source": [
    "clf_linear.score(X_test, y_test)"
   ]
  },
  {
   "cell_type": "code",
   "execution_count": 25,
   "metadata": {},
   "outputs": [
    {
     "name": "stdout",
     "output_type": "stream",
     "text": [
      "Model: 4353.7368938294185, Actual: 4195\n",
      "Model: 5214.4637249299785, Actual: 4995\n",
      "Model: 3715.227122508273, Actual: 3746\n",
      "Model: 5416.667332645061, Actual: 4953\n",
      "Model: 1280.280815145963, Actual: 1289\n",
      "Model: 5437.080300343694, Actual: 5315\n",
      "Model: 693.6952694025936, Actual: 668\n",
      "Model: 2330.10328176608, Actual: 2131\n",
      "Model: 8391.746845228421, Actual: 7707\n",
      "Model: 1721.9177455242068, Actual: 1656\n",
      "Model: 2401.8240947056693, Actual: 2184\n",
      "Model: 4522.31408909583, Actual: 4859\n",
      "Model: 4147.2349857302015, Actual: 4128\n",
      "Model: 1022.1145996409291, Actual: 975\n",
      "Model: 3182.0436254763135, Actual: 2959\n",
      "Model: 2799.0077164014115, Actual: 2771\n",
      "Model: 5337.836367309844, Actual: 4969\n",
      "Model: 1776.7784343149697, Actual: 1764\n",
      "Model: 4326.562951219961, Actual: 4079\n",
      "Model: 2786.6076296871724, Actual: 2615\n",
      "Model: 1340.7705850044335, Actual: 1436\n",
      "Model: 938.6852946739273, Actual: 1035\n",
      "Model: 4522.605598521954, Actual: 4258\n",
      "Model: 850.7023765368263, Actual: 775\n",
      "Model: 4852.237289743548, Actual: 5292\n",
      "Model: 5010.029335456873, Actual: 5140\n",
      "Model: 978.8882632570544, Actual: 961\n",
      "Model: 1635.9638621113077, Actual: 1662\n",
      "Model: 10118.796743825696, Actual: 11113\n",
      "Model: 13729.771344387118, Actual: 13701\n",
      "Model: 975.5867941372671, Actual: 1041\n",
      "Model: 5759.261599725969, Actual: 6232\n",
      "Model: 851.9747609288647, Actual: 800\n",
      "Model: 5042.53773967597, Actual: 5198\n",
      "Model: 5909.178400089751, Actual: 6468\n",
      "Model: 2798.561950904796, Actual: 2575\n",
      "Model: 5014.192122583358, Actual: 5299\n",
      "Model: 12185.788372145036, Actual: 11851\n",
      "Model: 1995.6548965466623, Actual: 2012\n",
      "Model: 738.5858522552112, Actual: 707\n",
      "Model: 1576.6710311616755, Actual: 1643\n",
      "Model: 5389.0727395724425, Actual: 5294\n",
      "Model: 5691.760628473119, Actual: 5193\n",
      "Model: 6428.1447619823375, Actual: 7125\n",
      "Model: 5845.441565070021, Actual: 6095\n",
      "Model: 8328.561777932748, Actual: 7862\n",
      "Model: 3873.0557071746234, Actual: 3537\n",
      "Model: 516.6278079543235, Actual: 552\n",
      "Model: 3129.069458435065, Actual: 3265\n",
      "Model: 5290.121908447149, Actual: 4861\n",
      "Model: 1548.633516066274, Actual: 1429\n",
      "Model: 1336.834881710416, Actual: 1436\n",
      "Model: 11213.458717694473, Actual: 12342\n",
      "Model: 1634.837076193872, Actual: 1687\n",
      "Model: 4900.56343894259, Actual: 4478\n",
      "Model: 4107.535441070331, Actual: 3750\n",
      "Model: 5340.650914240258, Actual: 5370\n",
      "Model: 3187.212312442439, Actual: 3277\n",
      "Model: 1885.372728375914, Actual: 1815\n",
      "Model: 5216.782686952947, Actual: 4755\n",
      "Model: 2886.313612387882, Actual: 2902\n",
      "Model: 2578.1499494988316, Actual: 2351\n",
      "Model: 733.478512048071, Actual: 807\n",
      "Model: 1166.3685578358736, Actual: 1133\n",
      "Model: 2107.8837603199063, Actual: 2141\n",
      "Model: 5329.804633049115, Actual: 5293\n",
      "66\n"
     ]
    }
   ],
   "source": [
    "a=0\n",
    "for X, y in zip(X_test, y_test):\n",
    "    if(abs((clf_linear.predict([X])[0]-y)/y)<0.1):\n",
    "        print(f\"Model: {clf_linear.predict([X])[0]}, Actual: {y}\")\n",
    "        a+=1\n",
    "\n",
    "print(a)"
   ]
  },
  {
   "cell_type": "code",
   "execution_count": 11,
   "metadata": {},
   "outputs": [
    {
     "name": "stdout",
     "output_type": "stream",
     "text": [
      "Wall time: 2min 7s\n"
     ]
    },
    {
     "data": {
      "text/plain": [
       "SVR(C=1.0, cache_size=200, coef0=0.0, degree=3, epsilon=0.1, gamma='scale',\n",
       "    kernel='rbf', max_iter=-1, shrinking=True, tol=0.001, verbose=False)"
      ]
     },
     "execution_count": 11,
     "metadata": {},
     "output_type": "execute_result"
    }
   ],
   "source": [
    "%%time\n",
    "\n",
    "clf_RBF = svm.SVR(kernel='rbf')\n",
    "clf_RBF.fit(X_train, y_train)"
   ]
  },
  {
   "cell_type": "code",
   "execution_count": 12,
   "metadata": {},
   "outputs": [
    {
     "data": {
      "text/plain": [
       "0.6477174027255886"
      ]
     },
     "execution_count": 12,
     "metadata": {},
     "output_type": "execute_result"
    }
   ],
   "source": [
    "clf_RBF.score(X_test, y_test)"
   ]
  },
  {
   "cell_type": "code",
   "execution_count": 24,
   "metadata": {},
   "outputs": [
    {
     "name": "stdout",
     "output_type": "stream",
     "text": [
      "Model: 545.0471535436209, Actual: 544\n",
      "Model: 3951.5418421659824, Actual: 4195\n",
      "Model: 3183.7619908342413, Actual: 2903\n",
      "Model: 5321.461858769804, Actual: 4995\n",
      "Model: 578.1176150329716, Actual: 579\n",
      "Model: 3520.608803290186, Actual: 3746\n",
      "Model: 5441.8306890416725, Actual: 5315\n",
      "Model: 671.8283161629588, Actual: 737\n",
      "Model: 2282.136256689139, Actual: 2131\n",
      "Model: 2159.02958402091, Actual: 2184\n",
      "Model: 3881.214188162649, Actual: 4128\n",
      "Model: 940.0052391472127, Actual: 975\n",
      "Model: 3078.0708856415167, Actual: 2959\n",
      "Model: 2791.1537752045706, Actual: 2771\n",
      "Model: 4183.336414298105, Actual: 3932\n",
      "Model: 5253.315864997296, Actual: 4969\n",
      "Model: 4065.191846448627, Actual: 4079\n",
      "Model: 1088.8942884611388, Actual: 1153\n",
      "Model: 1389.0114684439607, Actual: 1436\n",
      "Model: 4302.877219795027, Actual: 4258\n",
      "Model: 4878.108534860116, Actual: 5140\n",
      "Model: 956.9594623341168, Actual: 1035\n",
      "Model: 1456.02602510444, Actual: 1385\n",
      "Model: 2393.668983985262, Actual: 2254\n",
      "Model: 5143.118660304516, Actual: 4791\n",
      "Model: 1039.9710718848978, Actual: 1125\n",
      "Model: 6035.753337786802, Actual: 6232\n",
      "Model: 3154.653824517176, Actual: 2873\n",
      "Model: 6072.280565242438, Actual: 6617\n",
      "Model: 751.027691478912, Actual: 800\n",
      "Model: 939.1322784079989, Actual: 912\n",
      "Model: 2573.779804378204, Actual: 2575\n",
      "Model: 3774.938524997053, Actual: 4032\n",
      "Model: 4867.3049888121195, Actual: 5299\n",
      "Model: 2012.2211048587599, Actual: 2012\n",
      "Model: 5590.560072912112, Actual: 5294\n",
      "Model: 1755.8139198446324, Actual: 1774\n",
      "Model: 1504.3859377450215, Actual: 1441\n",
      "Model: 5948.97060987942, Actual: 6095\n",
      "Model: 2125.7855636754493, Actual: 1944\n",
      "Model: 3493.110305735468, Actual: 3676\n",
      "Model: 4913.7639989652, Actual: 4539\n",
      "Model: 4281.104937863973, Actual: 4038\n",
      "Model: 3856.6461165477813, Actual: 3537\n",
      "Model: 3396.322789164243, Actual: 3267\n",
      "Model: 2593.6533022821804, Actual: 2565\n",
      "Model: 1726.3026976951926, Actual: 1582\n",
      "Model: 903.1028847822249, Actual: 868\n",
      "Model: 6662.6903358420295, Actual: 6511\n",
      "Model: 1440.9369007353978, Actual: 1440\n",
      "Model: 4426.547716654095, Actual: 4861\n",
      "Model: 1482.6264385082193, Actual: 1429\n",
      "Model: 1372.3721301102723, Actual: 1436\n",
      "Model: 2315.15889091005, Actual: 2510\n",
      "Model: 4481.466364685522, Actual: 4478\n",
      "Model: 841.8368730815596, Actual: 801\n",
      "Model: 3901.9892108014246, Actual: 3750\n",
      "Model: 796.4453118648689, Actual: 803\n",
      "Model: 2182.4379408051855, Actual: 2271\n",
      "Model: 5521.872519416542, Actual: 5370\n",
      "Model: 2982.4347172200874, Actual: 3277\n",
      "Model: 893.6882194641416, Actual: 982\n",
      "Model: 1729.8886427163004, Actual: 1815\n",
      "Model: 2918.184700876935, Actual: 2902\n",
      "Model: 4685.0746941217585, Actual: 5135\n",
      "Model: 953.0324271321806, Actual: 1007\n",
      "Model: 2393.92999168311, Actual: 2351\n",
      "Model: 1073.3142736664317, Actual: 1133\n",
      "Model: 2292.6925958703505, Actual: 2141\n",
      "Model: 1998.4666792560802, Actual: 2141\n",
      "Model: 1660.982315486937, Actual: 1612\n",
      "71\n"
     ]
    }
   ],
   "source": [
    "b=0\n",
    "for X, y in zip(X_test, y_test):\n",
    "    if(abs((clf_RBF.predict([X])[0]-y)/y)<0.1):\n",
    "        print(f\"Model: {clf_RBF.predict([X])[0]}, Actual: {y}\")\n",
    "        b+=1\n",
    "        \n",
    "print(b)"
   ]
  },
  {
   "cell_type": "code",
   "execution_count": null,
   "metadata": {},
   "outputs": [],
   "source": []
  },
  {
   "cell_type": "code",
   "execution_count": null,
   "metadata": {},
   "outputs": [],
   "source": []
  }
 ],
 "metadata": {
  "kernelspec": {
   "display_name": "Python 3",
   "language": "python",
   "name": "python3"
  },
  "language_info": {
   "codemirror_mode": {
    "name": "ipython",
    "version": 3
   },
   "file_extension": ".py",
   "mimetype": "text/x-python",
   "name": "python",
   "nbconvert_exporter": "python",
   "pygments_lexer": "ipython3",
   "version": "3.7.4"
  }
 },
 "nbformat": 4,
 "nbformat_minor": 4
}
